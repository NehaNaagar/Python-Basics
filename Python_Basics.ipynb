{
  "nbformat": 4,
  "nbformat_minor": 0,
  "metadata": {
    "colab": {
      "provenance": []
    },
    "kernelspec": {
      "name": "python3",
      "display_name": "Python 3"
    },
    "language_info": {
      "name": "python"
    }
  },
  "cells": [
    {
      "cell_type": "markdown",
      "source": [
        "# Python Basics Questions"
      ],
      "metadata": {
        "id": "H7RRMZCP-QQ8"
      }
    },
    {
      "cell_type": "markdown",
      "source": [
        "1. What is Python, and why is it popular?\n",
        "\n",
        "- Python is a high-level, interpreted programming language known for its simplicity, readability, and versatility. It's popular due to its ease of use, large community, and extensive libraries, making it suitable for various applications, such as web development, data analysis, artificial intelligence, and more.\n",
        "\n",
        "2. What is an interpreter in Python?\n",
        "\n",
        "- An interpreter in Python is a program that reads and executes Python code line by line, translating it into machine code that the computer's processor can understand.\n",
        "\n",
        "3. What are pre-defined keywords in Python?\n",
        "\n",
        "- Pre-defined keywords in Python are reserved words that have special meanings and are used to define the syntax and structure of the language. Examples include if, else, for, while, def, and class.\n",
        "\n",
        "4. Can keywords be used as variable names?\n",
        "\n",
        "- No, keywords cannot be used as variable names in Python. Using a keyword as a variable name would conflict with its predefined meaning and could lead to syntax errors.\n",
        "\n",
        "5. What is mutability in Python?\n",
        "\n",
        "- Mutability in Python refers to the ability of an object to be modified after it's created. Mutable objects can be changed, while immutable objects cannot.\n",
        "\n",
        "6. Why are lists mutable, but tuples are immutable?\n",
        "\n",
        "- Lists are mutable because they're designed to be modified, allowing elements to be added, removed, or changed. Tuples, on the other hand, are immutable because they're intended to be used as a collection of constants, providing a way to ensure data integrity and prevent unintended changes.\n",
        "\n",
        "7. What is the difference between “==” and “is” operators in Python?\n",
        "\n",
        "- The == operator checks for equality in value, while the is operator checks for identity, i.e., whether both variables refer to the same object in memory.\n",
        "\n",
        "8. What are logical operators in Python?\n",
        "\n",
        "- Logical operators in Python are used to combine conditional statements. The three main logical operators are and, or, and not.\n",
        "\n",
        "9. What is type casting in Python?\n",
        "\n",
        "- Type casting in Python is the process of converting an object from one data type to another. This can be done implicitly (automatically) or explicitly (using functions like int(), str(), etc.).\n",
        "\n",
        "10. What is the difference between implicit and explicit type casting?\n",
        "\n",
        "- Implicit type casting is automatic, where Python converts the data type without user intervention. Explicit type casting requires the user to specify the desired data type using functions like int(), str(), etc.\n",
        "\n",
        "11. What is the purpose of conditional statements in Python?\n",
        "\n",
        "- Conditional statements in Python (like if, elif, and else) are used to execute different blocks of code based on specific conditions or decisions.\n",
        "\n",
        "12. How does the elif statement work?\n",
        "\n",
        "- The elif statement is used to check another condition if the initial if condition is false. It allows for multiple conditions to be checked and executed accordingly.\n",
        "\n",
        "13. What is the difference between for and while loops?\n",
        "\n",
        "- A for loop is used to iterate over a sequence (like a list or string) or other iterable objects, executing a block of code for each item. A while loop, on the other hand, executes a block of code as long as a certain condition is true.\n",
        "\n",
        "14. Describe a scenario where a while loop is more suitable than a for loop.\n",
        "\n",
        "- A while loop is more suitable when the number of iterations is unknown or depends on a condition being met. For example, reading input from a user until they enter a specific command or value. In such cases, a while loop can continue to execute until the condition is met, whereas a for loop would require a fixed number of iterations."
      ],
      "metadata": {
        "id": "ZroFtrjs-UyA"
      }
    },
    {
      "cell_type": "markdown",
      "source": [
        "# Practical Questions"
      ],
      "metadata": {
        "id": "cd2rNb8a_EcY"
      }
    },
    {
      "cell_type": "code",
      "source": [
        "# 1. Write a Python program to print \"Hello, World!\"\n",
        "\n",
        "print(\"Hello, World!\")"
      ],
      "metadata": {
        "colab": {
          "base_uri": "https://localhost:8080/"
        },
        "id": "oOOuG-Ov_J2X",
        "outputId": "f5af0701-79ef-4032-e240-101b72b5b6d1"
      },
      "execution_count": null,
      "outputs": [
        {
          "output_type": "stream",
          "name": "stdout",
          "text": [
            "Hello, World!\n"
          ]
        }
      ]
    },
    {
      "cell_type": "code",
      "source": [
        "\n",
        "def display_info():\n",
        "  \"\"\"Displays my name and age.\"\"\"\n",
        "  name = \"Neha\"\n",
        "  age = \"30\"\n",
        "\n",
        "  print(f\"My name is: {name}\")\n",
        "  print(f\"My age is: {age}\")\n",
        "\n",
        "if __name__ == \"__main__\":\n",
        "  display_info()"
      ],
      "metadata": {
        "colab": {
          "base_uri": "https://localhost:8080/"
        },
        "id": "LozLbLeCwDAW",
        "outputId": "0dea67e2-3621-4d4a-e520-d98320d3c695"
      },
      "execution_count": 8,
      "outputs": [
        {
          "output_type": "stream",
          "name": "stdout",
          "text": [
            "My name is: Neha\n",
            "My age is: 30\n"
          ]
        }
      ]
    },
    {
      "cell_type": "code",
      "source": [
        "# 3. Write code to print all the pre-defined keywords in Python using the keyword library.\n",
        "\n",
        "import keyword\n",
        "print(keyword.kwlist)"
      ],
      "metadata": {
        "id": "QEFtrrjw_8yD",
        "colab": {
          "base_uri": "https://localhost:8080/"
        },
        "outputId": "d93aa58e-8956-4479-9c7c-76cdf2f6115f"
      },
      "execution_count": 9,
      "outputs": [
        {
          "output_type": "stream",
          "name": "stdout",
          "text": [
            "['False', 'None', 'True', 'and', 'as', 'assert', 'async', 'await', 'break', 'class', 'continue', 'def', 'del', 'elif', 'else', 'except', 'finally', 'for', 'from', 'global', 'if', 'import', 'in', 'is', 'lambda', 'nonlocal', 'not', 'or', 'pass', 'raise', 'return', 'try', 'while', 'with', 'yield']\n"
          ]
        }
      ]
    },
    {
      "cell_type": "code",
      "source": [
        "# 4. Write a program that checks if a given word is a Python keyword.\n",
        "\n",
        "import keyword\n",
        "\n",
        "def is_python_keyword(word):\n",
        "  \"\"\"Checks if a given word is a Python keyword.\n",
        "\n",
        "  Args:\n",
        "    word: The string to check.\n",
        "\n",
        "  Returns:\n",
        "    True if the word is a Python keyword, False otherwise.\n",
        "  \"\"\"\n",
        "  return keyword.iskeyword(word)\n",
        "\n",
        "if __name__ == \"__main__\":\n",
        "  test_word1 = \"if\"\n",
        "  test_word2 = \"hello\"\n",
        "  test_word3 = \"True\"\n",
        "\n",
        "  print(f\"'{test_word1}' is a Python keyword: {is_python_keyword(test_word1)}\")\n",
        "  print(f\"'{test_word2}' is a Python keyword: {is_python_keyword(test_word2)}\")\n",
        "  print(f\"'{test_word3}' is a Python keyword: {is_python_keyword(test_word3)}\")\n",
        "\n",
        "  print(\"\\nList of all Python keywords:\")\n",
        "  print(keyword.kwlist)\n",
        "\n"
      ],
      "metadata": {
        "id": "3yaFZNvnAAfn",
        "colab": {
          "base_uri": "https://localhost:8080/"
        },
        "outputId": "8fb16dea-ba02-45fe-99ee-90adce64e66c"
      },
      "execution_count": 11,
      "outputs": [
        {
          "output_type": "stream",
          "name": "stdout",
          "text": [
            "'if' is a Python keyword: True\n",
            "'hello' is a Python keyword: False\n",
            "'True' is a Python keyword: True\n",
            "\n",
            "List of all Python keywords:\n",
            "['False', 'None', 'True', 'and', 'as', 'assert', 'async', 'await', 'break', 'class', 'continue', 'def', 'del', 'elif', 'else', 'except', 'finally', 'for', 'from', 'global', 'if', 'import', 'in', 'is', 'lambda', 'nonlocal', 'not', 'or', 'pass', 'raise', 'return', 'try', 'while', 'with', 'yield']\n"
          ]
        }
      ]
    },
    {
      "cell_type": "code",
      "source": [
        "# 5. Create a list and tuple in Python, and demonstrate how attempting to change an element works differently for each.\n",
        "def demonstrate_list_tuple_mutability():\n",
        "    \"\"\"Demonstrates the difference between lists and tuples when changing elements.\"\"\"\n",
        "\n",
        "    # Create a list\n",
        "    my_list = [1, 2, 3]\n",
        "    print(\"Original list:\", my_list)\n",
        "\n",
        "    # Create a tuple\n",
        "    my_tuple = (1, 2, 3)\n",
        "    print(\"Original tuple:\", my_tuple)\n",
        "\n",
        "    # Change an element in the list\n",
        "    my_list[0] = 10\n",
        "    print(\"Modified list:\", my_list)  # Output: [10, 2, 3]\n",
        "\n",
        "    # Attempt to change an element in the tuple\n",
        "    try:\n",
        "        my_tuple[0] = 10  # This will raise a TypeError\n",
        "    except TypeError as e:\n",
        "        print(f\"Error: {e}\")\n",
        "\n",
        "if __name__ == \"__main__\":\n",
        "    demonstrate_list_tuple_mutability()\n"
      ],
      "metadata": {
        "id": "lSdTjVQYDB-F",
        "colab": {
          "base_uri": "https://localhost:8080/"
        },
        "outputId": "b0c5b4f3-d0cb-484a-edc1-75b5199ee0f7"
      },
      "execution_count": 17,
      "outputs": [
        {
          "output_type": "stream",
          "name": "stdout",
          "text": [
            "Original list: [1, 2, 3]\n",
            "Original tuple: (1, 2, 3)\n",
            "Modified list: [10, 2, 3]\n",
            "Error: 'tuple' object does not support item assignment\n"
          ]
        }
      ]
    },
    {
      "cell_type": "code",
      "source": [
        "# 6. Write a function to demonstrate the behavior of mutable and immutable arguments.\n",
        "\n",
        "def demonstrate_mutable_immutable(mutable_arg, immutable_arg):\n",
        "  \"\"\"Demonstrates the behavior of mutable and immutable arguments in Python.\n",
        "\n",
        "  Args:\n",
        "    mutable_arg: A mutable object (e.g., a list).\n",
        "    immutable_arg: An immutable object (e.g., an integer, string, tuple).\n",
        "  \"\"\"\n",
        "  print(\"--- Inside the function ---\")\n",
        "  print(f\"Initial mutable_arg: {mutable_arg}, id: {id(mutable_arg)}\")\n",
        "  print(f\"Initial immutable_arg: {immutable_arg}, id: {id(immutable_arg)}\")\n",
        "\n",
        "  # Modify the mutable argument\n",
        "  mutable_arg.append(\"modified\")\n",
        "  print(f\"Mutable_arg after modification: {mutable_arg}, id: {id(mutable_arg)}\")\n",
        "\n",
        "  # Attempt to modify the immutable argument (will create a new object)\n",
        "  immutable_arg = immutable_arg + 1\n",
        "  print(f\"Immutable_arg after 'modification': {immutable_arg}, id: {id(immutable_arg)}\")\n",
        "  print()\n",
        "\n",
        "# --- Main part of the script ---\n",
        "if __name__ == \"__main__\":\n",
        "  my_list = [1, 2, 3]\n",
        "  my_int = 10\n",
        "\n",
        "  print(\"--- Before function call ---\")\n",
        "  print(f\"my_list: {my_list}, id: {id(my_list)}\")\n",
        "  print(f\"my_int: {my_int}, id: {id(my_int)}\")\n",
        "  print()\n",
        "\n",
        "  demonstrate_mutable_immutable(my_list, my_int)\n",
        "\n",
        "  print(\"--- After function call ---\")\n",
        "  print(f\"my_list: {my_list}, id: {id(my_list)}\")\n",
        "  print(f\"my_int: {my_int}, id: {id(my_int)}\")\n"
      ],
      "metadata": {
        "id": "gVJ8WdzGAEjU",
        "colab": {
          "base_uri": "https://localhost:8080/"
        },
        "outputId": "949aec23-e3d5-4ae5-9cee-63beb41d7883"
      },
      "execution_count": 13,
      "outputs": [
        {
          "output_type": "stream",
          "name": "stdout",
          "text": [
            "--- Before function call ---\n",
            "my_list: [1, 2, 3], id: 137630800933312\n",
            "my_int: 10, id: 10751144\n",
            "\n",
            "--- Inside the function ---\n",
            "Initial mutable_arg: [1, 2, 3], id: 137630800933312\n",
            "Initial immutable_arg: 10, id: 10751144\n",
            "Mutable_arg after modification: [1, 2, 3, 'modified'], id: 137630800933312\n",
            "Immutable_arg after 'modification': 11, id: 10751176\n",
            "\n",
            "--- After function call ---\n",
            "my_list: [1, 2, 3, 'modified'], id: 137630800933312\n",
            "my_int: 10, id: 10751144\n"
          ]
        }
      ]
    },
    {
      "cell_type": "code",
      "source": [
        "# 7. Write a program that performs basic arithmetic operations on two user-input numbers.\n",
        "\n",
        "x = 5\n",
        "y = 10\n",
        "print(f\"x > y and x == 5: {x > y and x == 5}\")\n",
        "print(f\"x < y or x == 5: {x < y or x == 5}\")\n",
        "print(f\"not x > y: {not x > y}\")\n",
        "\n"
      ],
      "metadata": {
        "id": "1Ya0aASYAKiG",
        "colab": {
          "base_uri": "https://localhost:8080/"
        },
        "outputId": "ae25bfc0-498d-4abe-d191-f2c26d15087c"
      },
      "execution_count": 18,
      "outputs": [
        {
          "output_type": "stream",
          "name": "stdout",
          "text": [
            "x > y and x == 5: False\n",
            "x < y or x == 5: True\n",
            "not x > y: True\n"
          ]
        }
      ]
    },
    {
      "cell_type": "code",
      "source": [
        "# 8. Write a program to demonstrate the use of logical operators.\n",
        "\n",
        "\n",
        "my_list = [1, 2, 3]\n",
        "my_tuple = (1, 2, 3)\n",
        "my_list[0] = \"Changed\"\n",
        "try:\n",
        "    my_tuple[0] = \"Changed\"\n",
        "except TypeError:\n",
        "    print(\"Tuples are immutable!\")\n",
        "print(\"List after modification:\", my_list)\n",
        "print(\"Tuple after modification:\", my_tuple)\n"
      ],
      "metadata": {
        "id": "lPv_45HtANt7",
        "colab": {
          "base_uri": "https://localhost:8080/"
        },
        "outputId": "aca9ab2e-8e05-4e88-9671-01e2d38fa840"
      },
      "execution_count": 19,
      "outputs": [
        {
          "output_type": "stream",
          "name": "stdout",
          "text": [
            "Tuples are immutable!\n",
            "List after modification: ['Changed', 2, 3]\n",
            "Tuple after modification: (1, 2, 3)\n"
          ]
        }
      ]
    },
    {
      "cell_type": "code",
      "source": [
        "# 9. Write a Python program to convert user input from string to integer, float, and boolean types.\n",
        "\n",
        "def convert_input():\n",
        "  \"\"\"Converts user input to integer, float, and boolean types.\"\"\"\n",
        "\n",
        "  user_input = input(\"20: \")\n",
        "\n",
        "  try:\n",
        "    integer_value = int(user_input)\n",
        "    print(f\"Integer: {integer_value}\")\n",
        "  except ValueError:\n",
        "    print(\"Cannot convert to integer.\")\n",
        "\n",
        "  try:\n",
        "    float_value = float(user_input)\n",
        "    print(f\"Float: {float_value}\")\n",
        "  except ValueError:\n",
        "    print(\"Cannot convert to float.\")\n",
        "\n",
        "  # Handle boolean conversion explicitly\n",
        "  if user_input.lower() in (\"true\", \"1\"):\n",
        "    boolean_value = True\n",
        "  elif user_input.lower() in (\"false\", \"0\"):\n",
        "    boolean_value = False\n",
        "  else:\n",
        "    boolean_value = bool(user_input)  # Default to Python's bool() behavior\n",
        "\n",
        "  print(f\"Boolean: {boolean_value}\")\n",
        "\n",
        "if __name__ == \"__main__\":\n",
        "  convert_input()\n"
      ],
      "metadata": {
        "id": "BQBjQ5mD2enn"
      },
      "execution_count": null,
      "outputs": []
    },
    {
      "cell_type": "code",
      "source": [
        "# 10. Write code to demonstrate type casting with list elements.\n",
        "\n",
        "my_list = [\"1\", \"2\", \"3\"]\n",
        "print(\"Original List:\", my_list)\n",
        "my_list = [int(i) for i in my_list]\n",
        "print(\"List after type casting:\", my_list)\n",
        "\n"
      ],
      "metadata": {
        "id": "qvk8stZjAVtO",
        "colab": {
          "base_uri": "https://localhost:8080/"
        },
        "outputId": "f9269eaa-927a-49af-f22f-a632e3a5793c"
      },
      "execution_count": 2,
      "outputs": [
        {
          "output_type": "stream",
          "name": "stdout",
          "text": [
            "Original List: ['1', '2', '3']\n",
            "List after type casting: [1, 2, 3]\n"
          ]
        }
      ]
    },
    {
      "cell_type": "code",
      "source": [
        "# 11. Write a program that checks if a number is positive, negative, or zero.\n",
        "\n",
        "num = float(input(\"Enter a number: \"))\n",
        "\n",
        "if num > 0:\n",
        "    print(f\"{num} is a positive number.\")\n",
        "elif num < 0:\n",
        "    print(f\"{num} is a negative number.\")\n",
        "else:\n",
        "    print(f\"The number is zero.\")\n"
      ],
      "metadata": {
        "id": "xRz4FLa7AY-7"
      },
      "execution_count": null,
      "outputs": []
    },
    {
      "cell_type": "code",
      "source": [
        "# 12. Write a for loop to print numbers from 1 to 10.\n",
        "\n",
        "for i in range(1, 11):\n",
        "    print(i)\n",
        "\n"
      ],
      "metadata": {
        "id": "eOVF3SIKAcpG",
        "colab": {
          "base_uri": "https://localhost:8080/"
        },
        "outputId": "998dc759-6bcf-43c8-df42-a829f58784be"
      },
      "execution_count": 1,
      "outputs": [
        {
          "output_type": "stream",
          "name": "stdout",
          "text": [
            "1\n",
            "2\n",
            "3\n",
            "4\n",
            "5\n",
            "6\n",
            "7\n",
            "8\n",
            "9\n",
            "10\n"
          ]
        }
      ]
    },
    {
      "cell_type": "code",
      "source": [
        "# 13. Write a Python program to find the sum of all even numbers between 1 and 50.\n",
        "\n",
        "sum_even = sum(i for i in range(1, 51) if i % 2 == 0)\n",
        "print(\"Sum of even numbers:\", sum_even)\n"
      ],
      "metadata": {
        "id": "G3NmiF5oAf01",
        "colab": {
          "base_uri": "https://localhost:8080/"
        },
        "outputId": "c70fd058-ad46-4972-ac8f-0bac10a5c72b"
      },
      "execution_count": 2,
      "outputs": [
        {
          "output_type": "stream",
          "name": "stdout",
          "text": [
            "Sum of even numbers: 650\n"
          ]
        }
      ]
    },
    {
      "cell_type": "code",
      "source": [
        "# 14. Write a program to reverse a string using a while loop.\n",
        "\n",
        "def reverse_string(s):\n",
        "    reversed_s = \"\"\n",
        "    i = len(s) - 1\n",
        "    while i >= 0:\n",
        "        reversed_s += s[i]\n",
        "        i -= 1\n",
        "    return reversed_s\n",
        "\n",
        "# Get user input\n",
        "user_input = input(\"Enter a string: \")\n",
        "\n",
        "# Reverse the string\n",
        "reversed_string = reverse_string(user_input)\n",
        "\n",
        "# Print the reversed string\n",
        "print(\"Reversed string:\", reversed_string)\n"
      ],
      "metadata": {
        "id": "HJdCFfotAiE-"
      },
      "execution_count": null,
      "outputs": []
    },
    {
      "cell_type": "code",
      "source": [
        "# 15. Write a Python program to calculate the factorial of a number provided by the user using a while loop.\n",
        "\n",
        "def calculate_factorial(n):\n",
        "    factorial = 1\n",
        "    i = 1\n",
        "    while i <= n:\n",
        "        factorial *= i\n",
        "        i += 1\n",
        "    return factorial\n",
        "\n",
        "try:\n",
        "    num = int(input(\"Enter a non-negative integer: \"))\n",
        "    if num < 0:\n",
        "        print(\"Factorial is not defined for negative numbers.\")\n",
        "    else:\n",
        "        result = calculate_factorial(num)\n",
        "        print(f\"The factorial of {num} is {result}\")\n",
        "except ValueError:\n",
        "    print(\"Invalid input. Please enter a valid non-negative integer.\")\n"
      ],
      "metadata": {
        "id": "rlXUpusYAkzC"
      },
      "execution_count": null,
      "outputs": []
    }
  ]
}